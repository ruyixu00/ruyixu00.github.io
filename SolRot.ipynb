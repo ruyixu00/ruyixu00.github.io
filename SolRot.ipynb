{
 "cells": [
  {
   "cell_type": "markdown",
   "source": [
    "Section 2.2 importing and visualising Data.\n",
    "\n",
    "In this Section you will be importing the data you keyed in and plotting a scatter graph with the data to assist you for section 3"
   ],
   "metadata": {
    "collapsed": false
   },
   "id": "e65ac5cc8078af42"
  },
  {
   "cell_type": "code",
   "execution_count": null,
   "outputs": [],
   "source": [
    "#import packages\n",
    "import numpy as np\n",
    "import matplotlib.pyplot as plt"
   ],
   "metadata": {
    "collapsed": false
   },
   "id": "abf422962b2db5d3"
  },
  {
   "cell_type": "markdown",
   "source": [
    "Using np.genfromtxt import Latitude, Rotation rate and their errors as arrays. you can find the documentation at https://numpy.org/doc/stable/reference/generated/numpy.genfromtxt.html\n",
    "add delimiter=\",\" to skip cells with no data. Print the arrays to ensure that you have the right values\n",
    "[2 mark]"
   ],
   "metadata": {
    "collapsed": false
   },
   "id": "9d505e6c9a1ffc87"
  },
  {
   "cell_type": "code",
   "execution_count": null,
   "id": "initial_id",
   "metadata": {
    "collapsed": true
   },
   "outputs": [],
   "source": [
    "#import data using np.genfromtext"
   ]
  },
  {
   "cell_type": "markdown",
   "source": [
    "Using plt.scatter and plt.pyplot.errorbar plot the Rotation rate against the latitude with appropriate error bars, labeled axis and legend.\n",
    "you can find the documentation at https://matplotlib.org/stable/api/_as_gen/matplotlib.pyplot.errorbar.html , https://matplotlib.org/stable/api/_as_gen/matplotlib.pyplot.scatter.html\n",
    "[4 marks]"
   ],
   "metadata": {
    "collapsed": false
   },
   "id": "ba715ceb044eeefc"
  },
  {
   "cell_type": "code",
   "execution_count": null,
   "outputs": [],
   "source": [
    "#plot the scatterplot with error bars"
   ],
   "metadata": {
    "collapsed": false
   },
   "id": "4d7214d7befdf966"
  },
  {
   "cell_type": "markdown",
   "source": [
    "In your scatter graph add in the accepted rotation rate equation RR=14.713-2.396*np.sin(x)**2-1.787*np.sin(x)**4\n",
    "[4 marks]"
   ],
   "metadata": {
    "collapsed": false
   },
   "id": "f92790c06dc60821"
  },
  {
   "cell_type": "markdown",
   "source": [
    "Section 3 In this section you will be utilising the function scipy.optimize.curve_fit extensively you may find the documentation at https://docs.scipy.org/doc/scipy/reference/generated/scipy.optimize.curve_fit.html\n",
    "your first curve fit will be scaffolded for you."
   ],
   "metadata": {
    "collapsed": false
   },
   "id": "1c5a29e92a59cbd5"
  },
  {
   "cell_type": "code",
   "execution_count": null,
   "outputs": [],
   "source": [
    "from scipy.optimize import curve_fit "
   ],
   "metadata": {
    "collapsed": false
   },
   "id": "b769a24b35ad8912"
  },
  {
   "cell_type": "markdown",
   "source": [
    "first define the accepted solar rotation equation \n",
    "[1 mark]"
   ],
   "metadata": {
    "collapsed": false
   },
   "id": "312208b2c49129a9"
  },
  {
   "cell_type": "code",
   "execution_count": null,
   "outputs": [],
   "source": [
    "def rr_func(x,A,B,C):\n",
    "    x=x*np.pi/180\n",
    "    return A+B*(np.sin(x))**2+C*(np.sin(x))**4"
   ],
   "metadata": {
    "collapsed": false
   },
   "id": "48f0d0d2b20a56dc"
  },
  {
   "cell_type": "markdown",
   "source": [
    "Next you will use the curve_fit function to plot a best fit curve based on your data points and the equation. Complete question 1 once you are done with this step.\n",
    "[4 marks] "
   ],
   "metadata": {
    "collapsed": false
   },
   "id": "cfe5cade6791c773"
  },
  {
   "cell_type": "code",
   "execution_count": null,
   "outputs": [],
   "source": [
    "popt, pcov = curve_fit(rr_func, lat,rr)\n",
    "lat_arr= np.linspace(A,B,1000)#this creates an array of values to ensure that your curve is smooth, replace A and B with the domain of your data set\n",
    "plt.plot(lat_arr, rr_func(lat_arr, *popt),label='fit: a=%5.3f, b=%5.3f, c=%5.3f' % tuple(popt))\n",
    "#Plot your scatter graph and accepted rotation curve here as well \n",
    "print(popt) #popt will provide you with the coefficients of your fitted curve"
   ],
   "metadata": {
    "collapsed": false
   },
   "id": "2fefbe9fd78cccdd"
  },
  {
   "cell_type": "markdown",
   "source": [
    "In reality when suggesting a new model/equation to model a certain phenomenon there should be some theory behind the equation to support it. But since this is still an active field of research you may use any equation to fit your data. Complete Question 2 before starting the next part. Once finished complete Question 3.\n",
    "Using the same steps as above, define your new equation and fit the curve and obtain the coefficients of the curve.\n",
    "[5 marks]\n"
   ],
   "metadata": {
    "collapsed": false
   },
   "id": "59e51d5b9d203e54"
  },
  {
   "cell_type": "code",
   "execution_count": null,
   "outputs": [],
   "source": [
    "# define your new function"
   ],
   "metadata": {
    "collapsed": false
   },
   "id": "1fdd404b036a3a77"
  },
  {
   "cell_type": "code",
   "execution_count": null,
   "outputs": [],
   "source": [
    "#plot your new function with the scatterplot and accepted rotation rate function, print the coefficients of your equation"
   ],
   "metadata": {
    "collapsed": false
   },
   "id": "bedb888dfdd20654"
  },
  {
   "cell_type": "markdown",
   "source": [
    "Bonus: Repeat the step above for Q4 with another function"
   ],
   "metadata": {
    "collapsed": false
   },
   "id": "badf87ecfc212d5a"
  },
  {
   "cell_type": "code",
   "execution_count": null,
   "outputs": [],
   "source": [],
   "metadata": {
    "collapsed": false
   },
   "id": "4e76e975e39de197"
  }
 ],
 "metadata": {
  "kernelspec": {
   "display_name": "Python 3",
   "language": "python",
   "name": "python3"
  },
  "language_info": {
   "codemirror_mode": {
    "name": "ipython",
    "version": 2
   },
   "file_extension": ".py",
   "mimetype": "text/x-python",
   "name": "python",
   "nbconvert_exporter": "python",
   "pygments_lexer": "ipython2",
   "version": "2.7.6"
  }
 },
 "nbformat": 4,
 "nbformat_minor": 5
}
